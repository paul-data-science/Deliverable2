{
 "cells": [
  {
   "cell_type": "code",
   "execution_count": 31,
   "id": "270c3f50",
   "metadata": {},
   "outputs": [
    {
     "name": "stderr",
     "output_type": "stream",
     "text": [
      "C:\\Users\\paula\\AppData\\Local\\Temp\\ipykernel_1868\\1166808615.py:9: DtypeWarning: Columns (22,34,35) have mixed types. Specify dtype option on import or set low_memory=False.\n",
      "  df = pd.read_csv(infile)\n"
     ]
    }
   ],
   "source": [
    "infile='\\\\Users\\\\paula\\\\Downloads\\\\ems_crime_join.csv'\n",
    "outfile='\\\\Users\\\\paula\\\\Downloads\\\\ems_crime_join_date_time.csv'\n",
    "\n",
    "import pandas as pd\n",
    "from datetime import datetime\n",
    "#dateparse = lambda x: datetime.strptime(x, '%Y-%m-%d %H:%M:%S')\n",
    "\n",
    "#df = pd.read_csv(infile, parse_dates=['datetime'], date_parser=dateparse)\n",
    "df = pd.read_csv(infile)\n"
   ]
  },
  {
   "cell_type": "code",
   "execution_count": 34,
   "id": "5f4ddf31",
   "metadata": {},
   "outputs": [],
   "source": [
    "# INCIDENT_DATETIME\n",
    "df['INCIDENT_DATE'] = pd.to_datetime(df['INCIDENT_DATETIME'], errors=\"coerce\").dt.strftime('%Y-%m-%d')\n",
    "df['INCIDENT_TIME'] = pd.to_datetime(df['INCIDENT_DATETIME'], errors=\"coerce\").dt.strftime('%H:%M:%S')\n",
    "\n",
    "# FIRST_ASSIGNMENT_DATETIME\n",
    "df['FIRST_ASSIGNMENT_DATE'] = pd.to_datetime(df['FIRST_ASSIGNMENT_DATETIME'], errors=\"coerce\").dt.strftime('%Y-%m-%d')\n",
    "df['FIRST_ASSIGNMENT_TIME'] = pd.to_datetime(df['FIRST_ASSIGNMENT_DATETIME'], errors=\"coerce\").dt.strftime('%H:%M:%S')\n",
    "\n",
    "# FIRST_ACTIVATION_DATETIME\n",
    "df['FIRST_ACTIVATION_DATE'] = pd.to_datetime(df['FIRST_ACTIVATION_DATETIME'], errors=\"coerce\").dt.strftime('%Y-%m-%d')\n",
    "df['FIRST_ACTIVATION_TIME'] = pd.to_datetime(df['FIRST_ACTIVATION_DATETIME'], errors=\"coerce\").dt.strftime('%H:%M:%S')\n",
    "\n",
    "# FIRST_ON_SCENE_DATETIME\n",
    "df['FIRST_ON_SCENE_DATE'] = pd.to_datetime(df['FIRST_ON_SCENE_DATETIME'], errors=\"coerce\").dt.strftime('%Y-%m-%d')\n",
    "df['FIRST_ON_SCENE_TIME'] = pd.to_datetime(df['FIRST_ON_SCENE_DATETIME'], errors=\"coerce\").dt.strftime('%H:%M:%S')\n",
    "\n",
    "# FIRST_TO_HOSP_DATETIME\n",
    "df['FIRST_TO_HOSP_DATE'] = pd.to_datetime(df['FIRST_TO_HOSP_DATETIME'], errors=\"coerce\").dt.strftime('%Y-%m-%d')\n",
    "df['FIRST_TO_HOSP_TIME'] = pd.to_datetime(df['FIRST_TO_HOSP_DATETIME'], errors=\"coerce\").dt.strftime('%H:%M:%S')\n",
    "\n",
    "# FIRST_HOSP_ARRIVAL_DATETIME\n",
    "df['FIRST_HOSP_ARRIVAL_DATE'] = pd.to_datetime(df['FIRST_HOSP_ARRIVAL_DATETIME'], errors=\"coerce\").dt.strftime('%Y-%m-%d')\n",
    "df['FIRST_HOSP_ARRIVAL_TIME'] = pd.to_datetime(df['FIRST_HOSP_ARRIVAL_DATETIME'], errors=\"coerce\").dt.strftime('%H:%M:%S')\n",
    "\n",
    "#  CMPLNT_FR_DT\n",
    "df['CMPLNT_FR_DT_DATE'] = pd.to_datetime(df['CMPLNT_FR_DT'], errors=\"coerce\").dt.strftime('%Y-%m-%d')\n",
    "df['CMPLNT_FR_DT_TIME'] = pd.to_datetime(df['CMPLNT_FR_DT'], errors=\"coerce\").dt.strftime('%H:%M:%S')\n",
    "\n",
    "#  CMPLNT_FR_TM\n",
    "df['CMPLNT_FR_TM_DATE'] = pd.to_datetime(df['CMPLNT_FR_TM'], errors=\"coerce\").dt.strftime('%Y-%m-%d')\n",
    "df['CMPLNT_FR_TM_TIME'] = pd.to_datetime(df['CMPLNT_FR_TM'], errors=\"coerce\").dt.strftime('%H:%M:%S')\n",
    "\n",
    "#  CMPLNT_TO_DT\n",
    "df['CMPLNT_TO_DT_DATE'] = pd.to_datetime(df['CMPLNT_TO_DT'], errors=\"coerce\").dt.strftime('%Y-%m-%d')\n",
    "df['CMPLNT_TO_DT_TIME'] = pd.to_datetime(df['CMPLNT_TO_DT'], errors=\"coerce\").dt.strftime('%H:%M:%S')\n",
    "\n",
    "#  CMPLNT_TO_TM\n",
    "df['CMPLNT_TO_TM_DATE'] = pd.to_datetime(df['CMPLNT_TO_TM'], errors=\"coerce\").dt.strftime('%Y-%m-%d')\n",
    "df['CMPLNT_TO_TM_TIME'] = pd.to_datetime(df['CMPLNT_TO_TM'], errors=\"coerce\").dt.strftime('%H:%M:%S')"
   ]
  },
  {
   "cell_type": "code",
   "execution_count": null,
   "id": "b04d2a1f",
   "metadata": {},
   "outputs": [],
   "source": [
    "# df.Date = df.Date.apply(pd.to_datetime)\n",
    "# df['Day'] = [d.date() for d in df['Date']]\n",
    "# df['Time'] = [d.time() for d in df['Date']]"
   ]
  },
  {
   "cell_type": "code",
   "execution_count": null,
   "id": "8ec54b20",
   "metadata": {},
   "outputs": [],
   "source": [
    "# df[\"Date\"] = pd.to_datetime(df[\"Date\"], errors=\"coerce\")"
   ]
  },
  {
   "cell_type": "code",
   "execution_count": 36,
   "id": "4a7fd4b7",
   "metadata": {},
   "outputs": [],
   "source": [
    "df.to_csv(outfile)"
   ]
  },
  {
   "cell_type": "code",
   "execution_count": 35,
   "id": "cd8ba0a0",
   "metadata": {},
   "outputs": [
    {
     "name": "stdout",
     "output_type": "stream",
     "text": [
      "<class 'pandas.core.frame.DataFrame'>\n",
      "RangeIndex: 369640 entries, 0 to 369639\n",
      "Data columns (total 92 columns):\n",
      " #   Column                          Non-Null Count   Dtype  \n",
      "---  ------                          --------------   -----  \n",
      " 0   Unnamed: 0                      369640 non-null  int64  \n",
      " 1   CAD_INCIDENT_ID                 369640 non-null  int64  \n",
      " 2   INCIDENT_DATETIME               369640 non-null  object \n",
      " 3   INITIAL_CALL_TYPE               369640 non-null  object \n",
      " 4   INITIAL_SEVERITY_LEVEL_CODE     369640 non-null  int64  \n",
      " 5   FINAL_CALL_TYPE                 369640 non-null  object \n",
      " 6   FINAL_SEVERITY_LEVEL_CODE       369640 non-null  int64  \n",
      " 7   FIRST_ASSIGNMENT_DATETIME       366312 non-null  object \n",
      " 8   VALID_DISPATCH_RSPNS_TIME_INDC  369640 non-null  object \n",
      " 9   DISPATCH_RESPONSE_SECONDS_QY    369640 non-null  object \n",
      " 10  FIRST_ACTIVATION_DATETIME       365767 non-null  object \n",
      " 11  FIRST_ON_SCENE_DATETIME         355889 non-null  object \n",
      " 12  VALID_INCIDENT_RSPNS_TIME_INDC  369640 non-null  object \n",
      " 13  INCIDENT_RESPONSE_SECONDS_QY    355873 non-null  object \n",
      " 14  INCIDENT_TRAVEL_TM_SECONDS_QY   355889 non-null  object \n",
      " 15  FIRST_TO_HOSP_DATETIME          224976 non-null  object \n",
      " 16  FIRST_HOSP_ARRIVAL_DATETIME     223955 non-null  object \n",
      " 17  INCIDENT_CLOSE_DATETIME         369599 non-null  object \n",
      " 18  HELD_INDICATOR                  369640 non-null  object \n",
      " 19  INCIDENT_DISPOSITION_CODE       366048 non-null  float64\n",
      " 20  BOROUGH                         369640 non-null  object \n",
      " 21  INCIDENT_DISPATCH_AREA          369640 non-null  object \n",
      " 22  ZIPCODE                         369625 non-null  object \n",
      " 23  POLICEPRECINCT                  369631 non-null  float64\n",
      " 24  CITYCOUNCILDISTRICT             369631 non-null  float64\n",
      " 25  COMMUNITYDISTRICT               369631 non-null  float64\n",
      " 26  COMMUNITYSCHOOLDISTRICT         369449 non-null  float64\n",
      " 27  CONGRESSIONALDISTRICT           369631 non-null  float64\n",
      " 28  REOPEN_INDICATOR                369640 non-null  object \n",
      " 29  SPECIAL_EVENT_INDICATOR         369640 non-null  object \n",
      " 30  STANDBY_INDICATOR               369640 non-null  object \n",
      " 31  TRANSFER_INDICATOR              369640 non-null  object \n",
      " 32  DATE                            369640 non-null  object \n",
      " 33  hour                            369640 non-null  int64  \n",
      " 34  zipcode                         369625 non-null  object \n",
      " 35  CMPLNT_NUM                      369640 non-null  object \n",
      " 36  ADDR_PCT_CD                     369631 non-null  float64\n",
      " 37  BORO_NM                         369640 non-null  object \n",
      " 38  CMPLNT_FR_DT                    369640 non-null  object \n",
      " 39  CMPLNT_FR_TM                    369640 non-null  object \n",
      " 40  CMPLNT_TO_DT                    333102 non-null  object \n",
      " 41  CMPLNT_TO_TM                    369640 non-null  object \n",
      " 42  CRM_ATPT_CPTD_CD                369640 non-null  object \n",
      " 43  HADEVELOPT                      369640 non-null  object \n",
      " 44  HOUSING_PSA                     26236 non-null   float64\n",
      " 45  JURISDICTION_CODE               369640 non-null  int64  \n",
      " 46  JURIS_DESC                      369640 non-null  object \n",
      " 47  KY_CD                           369640 non-null  int64  \n",
      " 48  LAW_CAT_CD                      369640 non-null  object \n",
      " 49  LOC_OF_OCCUR_DESC               369640 non-null  object \n",
      " 50  OFNS_DESC                       369640 non-null  object \n",
      " 51  PARKS_NM                        369640 non-null  object \n",
      " 52  PATROL_BORO                     369640 non-null  object \n",
      " 53  PD_CD                           369129 non-null  float64\n",
      " 54  PD_DESC                         369640 non-null  object \n",
      " 55  PREM_TYP_DESC                   369640 non-null  object \n",
      " 56  RPT_DT                          369640 non-null  object \n",
      " 57  STATION_NAME                    369640 non-null  object \n",
      " 58  SUSP_AGE_GROUP                  369640 non-null  object \n",
      " 59  SUSP_RACE                       369640 non-null  object \n",
      " 60  SUSP_SEX                        369640 non-null  object \n",
      " 61  TRANSIT_DISTRICT                8949 non-null    float64\n",
      " 62  VIC_AGE_GROUP                   369640 non-null  object \n",
      " 63  VIC_RACE                        369640 non-null  object \n",
      " 64  VIC_SEX                         369640 non-null  object \n",
      " 65  X_COORD_CD                      369640 non-null  float64\n",
      " 66  Y_COORD_CD                      369640 non-null  float64\n",
      " 67  Latitude                        369640 non-null  float64\n",
      " 68  Longitude                       369640 non-null  float64\n",
      " 69  Lat_Lon                         369640 non-null  object \n",
      " 70  New Georeferenced Column        369640 non-null  object \n",
      " 71  HOUR                            369640 non-null  int64  \n",
      " 72  INCIDENT_DATE                   369640 non-null  object \n",
      " 73  INCIDENT_TIME                   369640 non-null  object \n",
      " 74  FIRST_ASSIGNMENT_DATE           366312 non-null  object \n",
      " 75  FIRST_ASSIGNMENT_TIME           366312 non-null  object \n",
      " 76  FIRST_ACTIVATION_DATE           365767 non-null  object \n",
      " 77  FIRST_ACTIVATION_TIME           365767 non-null  object \n",
      " 78  FIRST_ON_SCENE_DATE             355889 non-null  object \n",
      " 79  FIRST_ON_SCENE_TIME             355889 non-null  object \n",
      " 80  FIRST_TO_HOSP_DATE              224976 non-null  object \n",
      " 81  FIRST_TO_HOSP_TIME              224976 non-null  object \n",
      " 82  FIRST_HOSP_ARRIVAL_DATE         223955 non-null  object \n",
      " 83  FIRST_HOSP_ARRIVAL_TIME         223955 non-null  object \n",
      " 84  CMPLNT_FR_DT_DATE               369640 non-null  object \n",
      " 85  CMPLNT_FR_DT_TIME               369640 non-null  object \n",
      " 86  CMPLNT_FR_TM_DATE               369640 non-null  object \n",
      " 87  CMPLNT_FR_TM_TIME               369640 non-null  object \n",
      " 88  CMPLNT_TO_DT_DATE               333102 non-null  object \n",
      " 89  CMPLNT_TO_DT_TIME               333102 non-null  object \n",
      " 90  CMPLNT_TO_TM_DATE               333186 non-null  object \n",
      " 91  CMPLNT_TO_TM_TIME               333186 non-null  object \n",
      "dtypes: float64(14), int64(8), object(70)\n",
      "memory usage: 259.5+ MB\n"
     ]
    }
   ],
   "source": [
    "df.info()"
   ]
  }
 ],
 "metadata": {
  "kernelspec": {
   "display_name": "Python 3 (ipykernel)",
   "language": "python",
   "name": "python3"
  },
  "language_info": {
   "codemirror_mode": {
    "name": "ipython",
    "version": 3
   },
   "file_extension": ".py",
   "mimetype": "text/x-python",
   "name": "python",
   "nbconvert_exporter": "python",
   "pygments_lexer": "ipython3",
   "version": "3.10.9"
  }
 },
 "nbformat": 4,
 "nbformat_minor": 5
}
